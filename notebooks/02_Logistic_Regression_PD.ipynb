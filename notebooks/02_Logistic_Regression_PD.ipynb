{
 "cells": [
  {
   "cell_type": "markdown",
   "id": "756eb922",
   "metadata": {},
   "source": [
    "# 02_Logistic_Regression_PD\n",
    "Logistic regression baseline for PD (Probability of Default)."
   ]
  },
  {
   "cell_type": "code",
   "execution_count": null,
   "id": "fc13ff0e",
   "metadata": {},
   "outputs": [],
   "source": [
    "# Common imports for the project\n",
    "import os\n",
    "import numpy as np\n",
    "import pandas as pd\n",
    "import matplotlib.pyplot as plt\n",
    "import seaborn as sns\n",
    "sns.set(style='whitegrid')\n",
    "%matplotlib inline\n"
   ]
  },
  {
   "cell_type": "code",
   "execution_count": null,
   "id": "d576348e",
   "metadata": {},
   "outputs": [],
   "source": [
    "from src.preprocessing import basic_cleaning, build_preprocessing_pipeline\n",
    "from src.feature_engineering import create_features\n",
    "from sklearn.linear_model import LogisticRegression\n",
    "from sklearn.model_selection import train_test_split\n",
    "from sklearn.metrics import roc_auc_score, classification_report, confusion_matrix\n",
    "import joblib"
   ]
  },
  {
   "cell_type": "code",
   "execution_count": null,
   "id": "0a27be61",
   "metadata": {},
   "outputs": [],
   "source": [
    "data_path = '../data/merged_data.csv'\n",
    "df = pd.read_csv(data_path)\n",
    "df = basic_cleaning(df)\n",
    "df = create_features(df)\n",
    "# Ensure target exists\n",
    "target = 'default'\n",
    "assert target in df.columns, \"Target 'default' not found in dataset.\"\n",
    "exclude = [target, 'id', 'index', 'source']\n",
    "features = [c for c in df.select_dtypes(include=[np.number]).columns if c not in exclude]\n",
    "X = df[features].fillna(0)\n",
    "y = df[target].astype(int)\n",
    "X_train, X_test, y_train, y_test = train_test_split(X, y, test_size=0.2, stratify=y, random_state=42)\n",
    "print('Train shape:', X_train.shape)"
   ]
  },
  {
   "cell_type": "code",
   "execution_count": null,
   "id": "ed0c2d2a",
   "metadata": {},
   "outputs": [],
   "source": [
    "from sklearn.pipeline import Pipeline\n",
    "preproc = build_preprocessing_pipeline(numeric_features=features, categorical_features=[], scaler=True)\n",
    "clf = LogisticRegression(max_iter=1000, class_weight='balanced')\n",
    "pipe = Pipeline([('preproc', preproc), ('clf', clf)])\n",
    "pipe.fit(X_train, y_train)\n",
    "probs = pipe.predict_proba(X_test)[:,1]\n",
    "auc = roc_auc_score(y_test, probs)\n",
    "print(f'Logistic Regression AUC: {auc:.4f}')\n",
    "print(classification_report(y_test, pipe.predict(X_test)))"
   ]
  },
  {
   "cell_type": "code",
   "execution_count": null,
   "id": "5c77b5eb",
   "metadata": {},
   "outputs": [],
   "source": [
    "os.makedirs('../models', exist_ok=True)\n",
    "joblib.dump(pipe, '../models/logistic.joblib')\n",
    "print('Saved logistic model to ../models/logistic.joblib')"
   ]
  }
 ],
 "metadata": {},
 "nbformat": 4,
 "nbformat_minor": 5
}

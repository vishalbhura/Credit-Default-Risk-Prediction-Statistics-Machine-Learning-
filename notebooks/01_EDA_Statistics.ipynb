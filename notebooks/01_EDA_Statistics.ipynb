{
 "cells": [
  {
   "cell_type": "markdown",
   "id": "d3017b07",
   "metadata": {},
   "source": [
    "# 01_EDA_Statistics\n",
    "This notebook performs exploratory data analysis and basic cleaning."
   ]
  },
  {
   "cell_type": "code",
   "execution_count": null,
   "id": "fc13ff0e",
   "metadata": {},
   "outputs": [],
   "source": [
    "# Common imports for the project\n",
    "import os\n",
    "import numpy as np\n",
    "import pandas as pd\n",
    "import matplotlib.pyplot as plt\n",
    "import seaborn as sns\n",
    "sns.set(style='whitegrid')\n",
    "%matplotlib inline\n"
   ]
  },
  {
   "cell_type": "code",
   "execution_count": null,
   "id": "e35132f0",
   "metadata": {},
   "outputs": [],
   "source": [
    "data_path = '../data/merged_data.csv'\n",
    "if not os.path.exists(data_path):\n",
    "    print(f'File not found: {data_path}. Please place your merged_data.csv in data/')\n",
    "else:\n",
    "    df = pd.read_csv(data_path)\n",
    "    print('Loaded', df.shape)\n",
    "    display(df.head())"
   ]
  },
  {
   "cell_type": "code",
   "execution_count": null,
   "id": "77a5a61d",
   "metadata": {},
   "outputs": [],
   "source": [
    "df.info()"
   ]
  },
  {
   "cell_type": "code",
   "execution_count": null,
   "id": "57f0b0fa",
   "metadata": {},
   "outputs": [],
   "source": [
    "display(df.describe(include='all').T)"
   ]
  },
  {
   "cell_type": "code",
   "execution_count": null,
   "id": "4767cac0",
   "metadata": {},
   "outputs": [],
   "source": [
    "missing = df.isnull().mean().sort_values(ascending=False)\n",
    "missing = missing[missing>0]\n",
    "display(missing.head(30))"
   ]
  },
  {
   "cell_type": "code",
   "execution_count": null,
   "id": "739adfc3",
   "metadata": {},
   "outputs": [],
   "source": [
    "if 'default' in df.columns:\n",
    "    display(df['default'].value_counts(normalize=True))\n",
    "    sns.countplot(x='default', data=df)\n",
    "    plt.title('Default class distribution')\n",
    "else:\n",
    "    print('No column named default found. Check your dataset.')"
   ]
  },
  {
   "cell_type": "code",
   "execution_count": null,
   "id": "42380561",
   "metadata": {},
   "outputs": [],
   "source": [
    "num = df.select_dtypes(include=[np.number]).copy()\n",
    "corr = num.corr()['default'].abs().sort_values(ascending=False).head(20)\n",
    "display(corr)\n",
    "plt.figure(figsize=(8,6))\n",
    "sns.heatmap(num[corr.index].corr(), annot=False, cmap='coolwarm', center=0)\n",
    "plt.title('Correlation matrix (top features)')"
   ]
  },
  {
   "cell_type": "code",
   "execution_count": null,
   "id": "04a475a4",
   "metadata": {},
   "outputs": [],
   "source": [
    "sample_path = '../data/merged_sample.csv'\n",
    "df.sample(frac=0.2, random_state=42).to_csv(sample_path, index=False)\n",
    "print('Saved sample to', sample_path)"
   ]
  }
 ],
 "metadata": {},
 "nbformat": 4,
 "nbformat_minor": 5
}

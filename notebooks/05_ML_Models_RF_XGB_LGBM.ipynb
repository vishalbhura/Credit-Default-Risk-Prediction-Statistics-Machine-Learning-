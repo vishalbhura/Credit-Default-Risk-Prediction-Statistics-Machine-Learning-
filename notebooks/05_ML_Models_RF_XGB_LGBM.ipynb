{
 "cells": [
  {
   "cell_type": "markdown",
   "id": "46051872",
   "metadata": {},
   "source": [
    "# 05_ML_Models_RF_XGB_LGBM\n",
    "Train and evaluate Random Forest, XGBoost, LightGBM with SMOTE."
   ]
  },
  {
   "cell_type": "code",
   "execution_count": null,
   "id": "fc13ff0e",
   "metadata": {},
   "outputs": [],
   "source": [
    "# Common imports for the project\n",
    "import os\n",
    "import numpy as np\n",
    "import pandas as pd\n",
    "import matplotlib.pyplot as plt\n",
    "import seaborn as sns\n",
    "sns.set(style='whitegrid')\n",
    "%matplotlib inline\n"
   ]
  },
  {
   "cell_type": "code",
   "execution_count": null,
   "id": "abfaf2fd",
   "metadata": {},
   "outputs": [],
   "source": [
    "from src.preprocessing import basic_cleaning\n",
    "from src.feature_engineering import create_features\n",
    "from sklearn.model_selection import train_test_split\n",
    "from imblearn.over_sampling import SMOTE\n",
    "from sklearn.ensemble import RandomForestClassifier\n",
    "from xgboost import XGBClassifier\n",
    "from lightgbm import LGBMClassifier\n",
    "from sklearn.metrics import roc_auc_score, classification_report\n",
    "import joblib"
   ]
  },
  {
   "cell_type": "code",
   "execution_count": null,
   "id": "4daa8bfe",
   "metadata": {},
   "outputs": [],
   "source": [
    "df = pd.read_csv('../data/merged_data.csv')\n",
    "df = basic_cleaning(df)\n",
    "df = create_features(df)\n",
    "target = 'default'\n",
    "exclude = [target, 'id', 'index', 'source']\n",
    "features = [c for c in df.select_dtypes(include=[np.number]).columns if c not in exclude]\n",
    "X = df[features].fillna(0)\n",
    "y = df[target].astype(int)\n",
    "X_train, X_test, y_train, y_test = train_test_split(X, y, test_size=0.2, stratify=y, random_state=42)\n",
    "sm = SMOTE(random_state=42)\n",
    "X_res, y_res = sm.fit_resample(X_train, y_train)\n",
    "print('Resampled shape:', X_res.shape)"
   ]
  },
  {
   "cell_type": "code",
   "execution_count": null,
   "id": "ae766737",
   "metadata": {},
   "outputs": [],
   "source": [
    "models = {\n",
    "    'rf': RandomForestClassifier(n_estimators=200, class_weight='balanced', random_state=42),\n",
    "    'xgb': XGBClassifier(use_label_encoder=False, eval_metric='logloss', random_state=42),\n",
    "    'lgbm': LGBMClassifier(random_state=42)\n",
    "}\n",
    "results = {}\n",
    "for name, m in models.items():\n",
    "    print('Training', name)\n",
    "    m.fit(X_res, y_res)\n",
    "    probs = m.predict_proba(X_test)[:,1]\n",
    "    auc = roc_auc_score(y_test, probs)\n",
    "    print(f'{name} AUC: {auc:.4f}')\n",
    "    results[name] = auc\n",
    "    joblib.dump(m, f'../models/{name}.joblib')\n",
    "print('Results:', results)"
   ]
  }
 ],
 "metadata": {},
 "nbformat": 4,
 "nbformat_minor": 5
}

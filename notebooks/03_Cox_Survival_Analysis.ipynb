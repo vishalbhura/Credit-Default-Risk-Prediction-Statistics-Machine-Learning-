{
 "cells": [
  {
   "cell_type": "markdown",
   "id": "5952eaee",
   "metadata": {},
   "source": [
    "# 03_Cox_Survival_Analysis\n",
    "Time-to-default modeling using Cox Proportional Hazards."
   ]
  },
  {
   "cell_type": "code",
   "execution_count": null,
   "id": "fc13ff0e",
   "metadata": {},
   "outputs": [],
   "source": [
    "# Common imports for the project\n",
    "import os\n",
    "import numpy as np\n",
    "import pandas as pd\n",
    "import matplotlib.pyplot as plt\n",
    "import seaborn as sns\n",
    "sns.set(style='whitegrid')\n",
    "%matplotlib inline\n"
   ]
  },
  {
   "cell_type": "code",
   "execution_count": null,
   "id": "752369d5",
   "metadata": {},
   "outputs": [],
   "source": [
    "from lifelines import CoxPHFitter\n",
    "from src.preprocessing import basic_cleaning\n",
    "from src.feature_engineering import create_features"
   ]
  },
  {
   "cell_type": "code",
   "execution_count": null,
   "id": "999bf4f8",
   "metadata": {},
   "outputs": [],
   "source": [
    "data_path = '../data/merged_data.csv'\n",
    "df = pd.read_csv(data_path)\n",
    "df = basic_cleaning(df)\n",
    "df = create_features(df)\n",
    "print('Columns:', df.columns[:50])"
   ]
  },
  {
   "cell_type": "code",
   "execution_count": null,
   "id": "40d4bdfc",
   "metadata": {},
   "outputs": [],
   "source": [
    "if 'time_to_default' not in df.columns:\n",
    "    import numpy as np\n",
    "    df['time_to_default'] = np.where(df['default']==1, np.random.randint(1,365,size=len(df)), np.random.randint(366,2000,size=len(df)))\n",
    "    print('Created synthetic time_to_default column for demo purposes.')\n",
    "\n",
    "duration_col = 'time_to_default'\n",
    "event_col = 'default'\n",
    "covariates = [c for c in df.select_dtypes(include=[np.number]).columns if c not in [duration_col, event_col, 'id', 'index', 'source']]\n",
    "len(covariates), covariates[:10]"
   ]
  },
  {
   "cell_type": "code",
   "execution_count": null,
   "id": "cf44dac1",
   "metadata": {},
   "outputs": [],
   "source": [
    "cph = CoxPHFitter()\n",
    "df_cox = df[[duration_col, event_col] + covariates].dropna().sample(n=min(20000, len(df)), random_state=42)\n",
    "cph.fit(df_cox, duration_col=duration_col, event_col=event_col)\n",
    "cph.print_summary()"
   ]
  },
  {
   "cell_type": "code",
   "execution_count": null,
   "id": "c2893c58",
   "metadata": {},
   "outputs": [],
   "source": [
    "import joblib\n",
    "joblib.dump(cph, '../models/cox_ph.joblib')\n",
    "print('Saved CoxPH model to ../models/cox_ph.joblib')"
   ]
  }
 ],
 "metadata": {},
 "nbformat": 4,
 "nbformat_minor": 5
}

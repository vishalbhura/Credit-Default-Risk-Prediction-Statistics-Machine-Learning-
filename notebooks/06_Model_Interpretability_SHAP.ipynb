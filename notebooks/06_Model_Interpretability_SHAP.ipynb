{
 "cells": [
  {
   "cell_type": "markdown",
   "id": "3649404b",
   "metadata": {},
   "source": [
    "# 06_Model_Interpretability_SHAP\n",
    "Compute SHAP values for a trained tree model."
   ]
  },
  {
   "cell_type": "code",
   "execution_count": null,
   "id": "fc13ff0e",
   "metadata": {},
   "outputs": [],
   "source": [
    "# Common imports for the project\n",
    "import os\n",
    "import numpy as np\n",
    "import pandas as pd\n",
    "import matplotlib.pyplot as plt\n",
    "import seaborn as sns\n",
    "sns.set(style='whitegrid')\n",
    "%matplotlib inline\n"
   ]
  },
  {
   "cell_type": "code",
   "execution_count": null,
   "id": "799ee927",
   "metadata": {},
   "outputs": [],
   "source": [
    "import joblib\n",
    "import shap\n",
    "from src.preprocessing import basic_cleaning\n",
    "from src.feature_engineering import create_features"
   ]
  },
  {
   "cell_type": "code",
   "execution_count": null,
   "id": "e8817fb1",
   "metadata": {},
   "outputs": [],
   "source": [
    "model_path = '../models/lgbm.joblib'\n",
    "if not os.path.exists(model_path):\n",
    "    model_path = '../models/xgb.joblib' if os.path.exists('../models/xgb.joblib') else '../models/rf.joblib'\n",
    "print('Using model:', model_path)\n",
    "model = joblib.load(model_path)\n",
    "df = pd.read_csv('../data/merged_data.csv')\n",
    "df = basic_cleaning(df)\n",
    "df = create_features(df)\n",
    "target = 'default'\n",
    "exclude = [target, 'id', 'index', 'source']\n",
    "X = df[[c for c in df.select_dtypes(include=[np.number]).columns if c not in exclude]].fillna(0)\n",
    "X_sample = X.sample(n=min(1000, len(X)), random_state=42)"
   ]
  },
  {
   "cell_type": "code",
   "execution_count": null,
   "id": "5b763bc7",
   "metadata": {},
   "outputs": [],
   "source": [
    "try:\n",
    "    explainer = shap.TreeExplainer(model)\n",
    "    shap_values = explainer.shap_values(X_sample)\n",
    "    shap.summary_plot(shap_values, X_sample, show=True)\n",
    "except Exception as e:\n",
    "    print('TreeExplainer failed:', e)\n",
    "    explainer = shap.KernelExplainer(lambda x: model.predict_proba(x)[:,1], X_sample.iloc[:100])\n",
    "    shap_values = explainer.shap_values(X_sample)\n",
    "    shap.summary_plot(shap_values, X_sample, show=True)"
   ]
  }
 ],
 "metadata": {},
 "nbformat": 4,
 "nbformat_minor": 5
}

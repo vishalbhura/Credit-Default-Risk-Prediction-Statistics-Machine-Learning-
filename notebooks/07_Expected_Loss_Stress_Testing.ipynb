{
 "cells": [
  {
   "cell_type": "markdown",
   "id": "a15ed2e9",
   "metadata": {},
   "source": [
    "# 07_Expected_Loss_Stress_Testing\n",
    "Compute Expected Loss (EL = PD × LGD × EAD) and perform simple stress testing."
   ]
  },
  {
   "cell_type": "code",
   "execution_count": null,
   "id": "fc13ff0e",
   "metadata": {},
   "outputs": [],
   "source": [
    "# Common imports for the project\n",
    "import os\n",
    "import numpy as np\n",
    "import pandas as pd\n",
    "import matplotlib.pyplot as plt\n",
    "import seaborn as sns\n",
    "sns.set(style='whitegrid')\n",
    "%matplotlib inline\n"
   ]
  },
  {
   "cell_type": "code",
   "execution_count": null,
   "id": "da235013",
   "metadata": {},
   "outputs": [],
   "source": [
    "import joblib\n",
    "from src.preprocessing import basic_cleaning\n",
    "from src.feature_engineering import create_features\n",
    "import numpy as np"
   ]
  },
  {
   "cell_type": "code",
   "execution_count": null,
   "id": "894c549c",
   "metadata": {},
   "outputs": [],
   "source": [
    "model_path = '../models/lgbm.joblib'\n",
    "if not os.path.exists(model_path):\n",
    "    model_path = '../models/xgb.joblib' if os.path.exists('../models/xgb.joblib') else '../models/logistic.joblib'\n",
    "print('Model used:', model_path)\n",
    "pipe = joblib.load(model_path)\n",
    "df = pd.read_csv('../data/merged_data.csv')\n",
    "df = basic_cleaning(df)\n",
    "df = create_features(df)\n",
    "exclude = ['default','id','index','source']\n",
    "features = [c for c in df.select_dtypes(include=[np.number]).columns if c not in exclude]\n",
    "X = df[features].fillna(0)\n",
    "pd_pred = pipe.predict_proba(X)[:,1]\n",
    "df['pd_pred'] = pd_pred\n",
    "display(df[['pd_pred']].describe())"
   ]
  },
  {
   "cell_type": "code",
   "execution_count": null,
   "id": "f4d53976",
   "metadata": {},
   "outputs": [],
   "source": [
    "if 'loan_amnt' in df.columns:\n",
    "    df['ead'] = df['loan_amnt']\n",
    "else:\n",
    "    df['ead'] = 10000\n",
    "df['lgd'] = 0.45\n",
    "df['expected_loss'] = df['pd_pred'] * df['lgd'] * df['ead']\n",
    "display(df[['pd_pred','ead','lgd','expected_loss']].head())"
   ]
  },
  {
   "cell_type": "code",
   "execution_count": null,
   "id": "34788194",
   "metadata": {},
   "outputs": [],
   "source": [
    "total_el = df['expected_loss'].sum()\n",
    "print(f'Total Expected Loss (base case): {total_el:,.2f}')\n",
    "df['pd_stress'] = np.minimum(df['pd_pred'] * 1.5, 1.0)\n",
    "df['expected_loss_stress'] = df['pd_stress'] * df['lgd'] * df['ead']\n",
    "print('Total EL (stress 1.5x PD):', df['expected_loss_stress'].sum())"
   ]
  }
 ],
 "metadata": {},
 "nbformat": 4,
 "nbformat_minor": 5
}
